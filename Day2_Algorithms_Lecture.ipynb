{
 "cells": [
  {
   "cell_type": "markdown",
   "metadata": {},
   "source": [
    "# Classic Algorithms"
   ]
  },
  {
   "cell_type": "markdown",
   "metadata": {},
   "source": [
    "## Tasks Today:\n",
    " \n",
    "1) <b>In-Place Algorithms</b> <br>\n",
    " &nbsp;&nbsp;&nbsp;&nbsp; a) Syntax <br>\n",
    " &nbsp;&nbsp;&nbsp;&nbsp; a) Out of Place Algorithm <br>\n",
    " &nbsp;&nbsp;&nbsp;&nbsp; b) In-Class Exercise #1 <br>\n",
    "2) <b>Two Pointers</b> <br>\n",
    "3) <b>Sorting Algorithms</b> <br>\n",
    "4) <b>Merge Sort</b> <br>\n",
    " &nbsp;&nbsp;&nbsp;&nbsp; a) Video on Algorithms <br>\n",
    " &nbsp;&nbsp;&nbsp;&nbsp; b) How it Works <br>\n",
    "5) <b>Exercises</b> <br>\n",
    " &nbsp;&nbsp;&nbsp;&nbsp; a) Exercise #1 - Reverse a List in Place Using an In-Place Algorithm <br>\n",
    " &nbsp;&nbsp;&nbsp;&nbsp; b) Exercise #2 - Find Distinct Words <br>\n",
    " &nbsp;&nbsp;&nbsp;&nbsp; c) Exercise #3 - Write a program to implement a Linear Search Algorithm. <br>"
   ]
  },
  {
   "cell_type": "markdown",
   "metadata": {},
   "source": [
    "## In-Place Algorithms"
   ]
  },
  {
   "cell_type": "markdown",
   "metadata": {},
   "source": [
    "#### Syntax"
   ]
  },
  {
   "cell_type": "code",
   "execution_count": 9,
   "metadata": {},
   "outputs": [
    {
     "name": "stdout",
     "output_type": "stream",
     "text": [
      "[3, 2, 1]\n",
      "[1, 2, 3]\n"
     ]
    }
   ],
   "source": [
    "my_list = [3, 2, 1]\n",
    "sorted_list = sorted(my_list)\n",
    "\n",
    "print(my_list)\n",
    "print(sorted_list)"
   ]
  },
  {
   "cell_type": "code",
   "execution_count": 10,
   "metadata": {},
   "outputs": [
    {
     "data": {
      "text/plain": [
       "2479182162432"
      ]
     },
     "execution_count": 10,
     "metadata": {},
     "output_type": "execute_result"
    }
   ],
   "source": [
    "id(my_list)"
   ]
  },
  {
   "cell_type": "code",
   "execution_count": 11,
   "metadata": {},
   "outputs": [
    {
     "data": {
      "text/plain": [
       "2479180889600"
      ]
     },
     "execution_count": 11,
     "metadata": {},
     "output_type": "execute_result"
    }
   ],
   "source": [
    "id(sorted_list)"
   ]
  },
  {
   "cell_type": "code",
   "execution_count": 12,
   "metadata": {},
   "outputs": [
    {
     "name": "stdout",
     "output_type": "stream",
     "text": [
      "[1, 2, 3]\n"
     ]
    }
   ],
   "source": [
    "my_list.sort()\n",
    "print(my_list)"
   ]
  },
  {
   "cell_type": "code",
   "execution_count": 13,
   "metadata": {},
   "outputs": [
    {
     "data": {
      "text/plain": [
       "2479182162432"
      ]
     },
     "execution_count": 13,
     "metadata": {},
     "output_type": "execute_result"
    }
   ],
   "source": [
    "id(my_list)"
   ]
  },
  {
   "cell_type": "code",
   "execution_count": 20,
   "metadata": {},
   "outputs": [
    {
     "name": "stdout",
     "output_type": "stream",
     "text": [
      "[45, 23, 34, 63, 124, 75]\n",
      "[75, 23, 34, 63, 124, 45]\n"
     ]
    }
   ],
   "source": [
    "def swap_first_last(a_list):\n",
    "    temp_val = a_list[0]\n",
    "    a_list[0] = a_list[-1]\n",
    "    a_list[-1] = temp_val\n",
    "    \n",
    "random_list = [45, 23, 34, 63, 124, 75]\n",
    "print(random_list)\n",
    "swap_first_last(random_list)\n",
    "print(random_list)\n",
    "# [75, 23, 24, 63, 124, 45]"
   ]
  },
  {
   "cell_type": "code",
   "execution_count": 22,
   "metadata": {},
   "outputs": [
    {
     "name": "stdout",
     "output_type": "stream",
     "text": [
      "[45, 23, 34, 63, 124, 75]\n",
      "[75, 23, 34, 63, 124, 45]\n"
     ]
    }
   ],
   "source": [
    "def swap_first_last(a_list):\n",
    "    a_list[0], a_list[-1] = a_list[-1], a_list[0]\n",
    "    \n",
    "random_list = [45, 23, 34, 63, 124, 75]\n",
    "print(random_list)\n",
    "swap_first_last(random_list)\n",
    "print(random_list)\n",
    "# [75, 23, 24, 63, 124, 45]"
   ]
  },
  {
   "cell_type": "code",
   "execution_count": 26,
   "metadata": {},
   "outputs": [
    {
     "name": "stdout",
     "output_type": "stream",
     "text": [
      "['Brian', 'George', 'Mike', 'Dave', 'Jack']\n",
      "['Dave', 'George', 'Mike', 'Brian', 'Jack']\n"
     ]
    }
   ],
   "source": [
    "def swap_elements(a_list, idx_1, idx_2):\n",
    "    a_list[idx_1], a_list[idx_2] = a_list[idx_2], a_list[idx_1]\n",
    "    \n",
    "    \n",
    "names = ['Brian', 'George', 'Mike', 'Dave', 'Jack']\n",
    "print(names)\n",
    "swap_elements(names, 0, 3)\n",
    "\n",
    "print(names)"
   ]
  },
  {
   "cell_type": "markdown",
   "metadata": {},
   "source": [
    "#### Out of Place Algorithm"
   ]
  },
  {
   "cell_type": "code",
   "execution_count": 29,
   "metadata": {},
   "outputs": [
    {
     "name": "stdout",
     "output_type": "stream",
     "text": [
      "['Dave', 'George', 'Mike', 'Brian', 'Jack']\n",
      "['Dave', 'George', 'Mike', 'Brian', 'Jack']\n",
      "['Jack', 'Brian', 'Mike', 'George', 'Dave']\n"
     ]
    }
   ],
   "source": [
    "names_reversed = names[::-1]\n",
    "\n",
    "def reverse_list(a_list):\n",
    "    return a_list[::-1]\n",
    "\n",
    "print(names)\n",
    "a = reverse_list(names)\n",
    "print(names)\n",
    "print(a)"
   ]
  },
  {
   "cell_type": "code",
   "execution_count": 36,
   "metadata": {},
   "outputs": [
    {
     "data": {
      "text/plain": [
       "[5, 4, 3, 2, 1]"
      ]
     },
     "execution_count": 36,
     "metadata": {},
     "output_type": "execute_result"
    }
   ],
   "source": [
    "# Long form reverse a list out of place\n",
    "\n",
    "def reverse_list(a_list):\n",
    "    new_list = []\n",
    "    length = len(a_list)\n",
    "    for i in range(len(a_list)):\n",
    "        new_list.append(a_list[length-1-i])\n",
    "    return new_list\n",
    "\n",
    "reverse_list([1, 2, 3, 4, 5])"
   ]
  },
  {
   "cell_type": "markdown",
   "metadata": {},
   "source": [
    "#### In-Class Exercise #1 <br>\n",
    "<p>Write a function that takes in four arguments (list, index1, index2, index3), and swaps those three positions in the list passed in.</p>"
   ]
  },
  {
   "cell_type": "code",
   "execution_count": 38,
   "metadata": {},
   "outputs": [
    {
     "name": "stdout",
     "output_type": "stream",
     "text": [
      "[10, 4, 3, 8, 4, 2, 6]\n",
      "[2, 4, 3, 10, 4, 8, 6]\n"
     ]
    }
   ],
   "source": [
    "l_1 = [10, 4, 3, 8, 4, 2, 6]\n",
    "\n",
    "def swap(a_list, a, b, c):\n",
    "    a_list[a], a_list[b], a_list[c] = a_list[c], a_list[a], a_list[b]\n",
    "    \n",
    "    \n",
    "print(l_1)  \n",
    "swap(l_1, 0, 3, 5)\n",
    "print(l_1)\n"
   ]
  },
  {
   "cell_type": "markdown",
   "metadata": {},
   "source": [
    "## Two Pointers"
   ]
  },
  {
   "cell_type": "markdown",
   "metadata": {},
   "source": [
    "#### Syntax"
   ]
  },
  {
   "cell_type": "code",
   "execution_count": 40,
   "metadata": {},
   "outputs": [
    {
     "name": "stdout",
     "output_type": "stream",
     "text": [
      "[5, 10, 15, 20, 25, 30, 35, 40, 45, 50]\n",
      "[50, 45, 40, 35, 30, 25, 20, 15, 10, 5]\n"
     ]
    }
   ],
   "source": [
    "# lst[left], lst[right] = lst[right], lst[left]\n",
    "# continue to swap until the left index is greater than the right index\n",
    "\n",
    "def reverse_inplace(lst):\n",
    "    # Create the pointers for our indices\n",
    "    left = 0\n",
    "    right = len(lst) - 1\n",
    "    while left < right:\n",
    "        lst[left], lst[right] = lst[right], lst[left]\n",
    "        left += 1\n",
    "        right -= 1\n",
    "#     return lst\n",
    "\n",
    "\n",
    "some_list = [5, 10, 15, 20, 25, 30, 35, 40, 45, 50]\n",
    "\n",
    "print(some_list)\n",
    "reverse_inplace(some_list)\n",
    "print(some_list)"
   ]
  },
  {
   "cell_type": "markdown",
   "metadata": {},
   "source": [
    "#### Video of Algorithms <br>\n",
    "<p>Watch the video about algorithms.</p>\n",
    "\n",
    "https://www.youtube.com/watch?v=Q9HjeFD62Uk\n",
    "\n",
    "https://www.youtube.com/watch?v=kPRA0W1kECg\n",
    "\n",
    "https://www.youtube.com/watch?v=ZZuD6iUe3Pc"
   ]
  },
  {
   "cell_type": "markdown",
   "metadata": {},
   "source": [
    "# Sorting Algorithms"
   ]
  },
  {
   "cell_type": "code",
   "execution_count": 41,
   "metadata": {},
   "outputs": [
    {
     "data": {
      "text/plain": [
       "[50, 8, 1, 93, 33, 39, 91, 62, 74, 39]"
      ]
     },
     "execution_count": 41,
     "metadata": {},
     "output_type": "execute_result"
    }
   ],
   "source": [
    "import random \n",
    "\n",
    "[random.randint(0,100) for i in range(10)]"
   ]
  },
  {
   "cell_type": "markdown",
   "metadata": {},
   "source": [
    "#### Bubble Sort\n",
    "\n",
    "Worst Case: O(n^2) Time - O(1) Space"
   ]
  },
  {
   "cell_type": "code",
   "execution_count": 42,
   "metadata": {},
   "outputs": [
    {
     "data": {
      "text/plain": [
       "[1, 8, 33, 39, 39, 50, 62, 74, 91, 93]"
      ]
     },
     "execution_count": 42,
     "metadata": {},
     "output_type": "execute_result"
    }
   ],
   "source": [
    "# Best Case: O(n) Linear Time\n",
    "def bubble_sort(array):\n",
    "    is_sorted = False\n",
    "    while not is_sorted:\n",
    "        is_sorted = True\n",
    "        for idx in range(len(array) - 1):\n",
    "            if array[idx] > array[idx + 1]:\n",
    "                array[idx], array[idx + 1] = array[idx + 1], array[idx]\n",
    "                is_sorted = False\n",
    "    return array\n",
    "\n",
    "bubble_sort([50, 8, 1, 93, 33, 39, 91, 62, 74, 39])"
   ]
  },
  {
   "cell_type": "markdown",
   "metadata": {},
   "source": [
    "##### Insertion Sort\n",
    "\n",
    "Worst Case: O(n^2) time - O(1)space"
   ]
  },
  {
   "cell_type": "code",
   "execution_count": 45,
   "metadata": {},
   "outputs": [
    {
     "name": "stdout",
     "output_type": "stream",
     "text": [
      "[50, 8, 1, 93, 33, 39, 91, 62, 74, 39]\n",
      "[1, 8, 33, 39, 39, 50, 62, 74, 91, 93]\n"
     ]
    }
   ],
   "source": [
    "\n",
    "def insertion_sort(array):\n",
    "    for i in range(1,len(array)):\n",
    "        while i > 0 and array[i] < array[i - 1]:\n",
    "            array[i], array[i - 1] = array[i - 1], array[i]\n",
    "            i -= 1\n",
    "#     return array\n",
    "random_list = [50, 8, 1, 93, 33, 39, 91, 62, 74, 39]\n",
    "print(random_list)\n",
    "insertion_sort(random_list)\n",
    "print(random_list)"
   ]
  },
  {
   "cell_type": "markdown",
   "metadata": {},
   "source": [
    "## Merge Sort"
   ]
  },
  {
   "cell_type": "markdown",
   "metadata": {},
   "source": [
    "#### How it Works"
   ]
  },
  {
   "cell_type": "code",
   "execution_count": 55,
   "metadata": {},
   "outputs": [
    {
     "name": "stdout",
     "output_type": "stream",
     "text": [
      "Splitting... [50, 8, 1, 93, 33, 39, 91, 62, 74, 39]\n",
      "Splitting... [50, 8, 1, 93, 33]\n",
      "Splitting... [50, 8]\n",
      "Merging... [50]\n",
      "Merging... [8]\n",
      "Merging... [8, 50]\n",
      "Splitting... [1, 93, 33]\n",
      "Merging... [1]\n",
      "Splitting... [93, 33]\n",
      "Merging... [93]\n",
      "Merging... [33]\n",
      "Merging... [33, 93]\n",
      "Merging... [1, 33, 93]\n",
      "Merging... [1, 8, 33, 50, 93]\n",
      "Splitting... [39, 91, 62, 74, 39]\n",
      "Splitting... [39, 91]\n",
      "Merging... [39]\n",
      "Merging... [91]\n",
      "Merging... [39, 91]\n",
      "Splitting... [62, 74, 39]\n",
      "Merging... [62]\n",
      "Splitting... [74, 39]\n",
      "Merging... [74]\n",
      "Merging... [39]\n",
      "Merging... [39, 74]\n",
      "Merging... [39, 62, 74]\n",
      "Merging... [39, 39, 62, 74, 91]\n",
      "Merging... [1, 8, 33, 39, 39, 50, 62, 74, 91, 93]\n"
     ]
    },
    {
     "data": {
      "text/plain": [
       "[1, 8, 33, 39, 39, 50, 62, 74, 91, 93]"
      ]
     },
     "execution_count": 55,
     "metadata": {},
     "output_type": "execute_result"
    }
   ],
   "source": [
    "# Step 1: Split everything into it's own group down to len == 1\n",
    "# Step 2: From left to right, merge two groups together\n",
    "# Step 3: While merging, place each item in the correct index position in the main list\n",
    "# Step 4: Continue until we have only one group left\n",
    "\n",
    "\n",
    "def merge_sort(alist):\n",
    "    \n",
    "    if len(alist) > 1:\n",
    "        mid = len(alist) // 2\n",
    "        print(\"Splitting...\", alist)\n",
    "        left_half = alist[:mid]\n",
    "        right_half = alist[mid:]\n",
    "        \n",
    "        merge_sort(left_half)\n",
    "        merge_sort(right_half)\n",
    "        \n",
    "        # index pointers for our lists\n",
    "        l = 0 # pointer for left half list\n",
    "        r = 0 # pointer for right half list\n",
    "        m = 0 # pointer for main list\n",
    "        \n",
    "        while l < len(left_half) and r < len(right_half):\n",
    "            if left_half[l] < right_half[r]:\n",
    "                alist[m] = left_half[l]\n",
    "                l += 1\n",
    "            else:\n",
    "                alist[m] = right_half[r]\n",
    "                r += 1\n",
    "            m += 1\n",
    "        \n",
    "        while l < len(left_half):\n",
    "            alist[m] = left_half[l]\n",
    "            l += 1\n",
    "            m += 1\n",
    "        while r < len(right_half):\n",
    "            alist[m] = right_half[r]\n",
    "            r += 1\n",
    "            m += 1\n",
    "        \n",
    "        \n",
    "    print(\"Merging...\", alist)\n",
    "    return alist\n",
    "\n",
    "random_list = [50, 8, 1, 93, 33, 39, 91, 62, 74, 39]\n",
    "merge_sort(random_list)"
   ]
  },
  {
   "cell_type": "code",
   "execution_count": 51,
   "metadata": {},
   "outputs": [
    {
     "data": {
      "text/plain": [
       "[1, 2, 3, 4]"
      ]
     },
     "execution_count": 51,
     "metadata": {},
     "output_type": "execute_result"
    }
   ],
   "source": [
    "[1, 2, 3, 4, 5, 6, 7, 8, 9][:4]"
   ]
  },
  {
   "cell_type": "markdown",
   "metadata": {},
   "source": [
    "# Binary Search\n",
    "\n",
    "The Binary Search algorithm works by finding the number in the middle of a given array and comparing it to the target. Given that the array is sorted\n",
    "\n",
    "* The worst case run time for this algorithm is `O(log(n))`"
   ]
  },
  {
   "cell_type": "code",
   "execution_count": 60,
   "metadata": {},
   "outputs": [
    {
     "data": {
      "text/plain": [
       "'The index for 33 is 2'"
      ]
     },
     "execution_count": 60,
     "metadata": {},
     "output_type": "execute_result"
    }
   ],
   "source": [
    "def binary_search(a_list, target):\n",
    "    high = len(a_list) - 1\n",
    "    low = 0\n",
    "    while low <= high:\n",
    "        middle = (low + high) // 2\n",
    "        if target == a_list[middle]:\n",
    "            return f\"The index for {target} is {middle}\"\n",
    "        elif target < a_list[middle]:\n",
    "            high = middle - 1\n",
    "        else:\n",
    "            low = middle + 1\n",
    "    return -1\n",
    "\n",
    "\n",
    "binary_search(random_list, 33)"
   ]
  },
  {
   "cell_type": "markdown",
   "metadata": {},
   "source": [
    "# Exercises"
   ]
  },
  {
   "cell_type": "markdown",
   "metadata": {},
   "source": [
    "### Exercise #1 <br>\n",
    "<p>Reverse the list below in-place using an in-place algorithm.<br>For extra credit: Reverse the strings at the same time.</p>"
   ]
  },
  {
   "cell_type": "code",
   "execution_count": null,
   "metadata": {},
   "outputs": [],
   "source": [
    "words = ['this' , 'is', 'a', 'sentence', '.']\n",
    "#  Output: ['.', 'ecnetnes', 'a', 'si', 'siht']"
   ]
  },
  {
   "cell_type": "markdown",
   "metadata": {},
   "source": [
    "### Exercise #2 <br>\n",
    "<p>Create a function that counts how many distinct words are in the string below, then outputs a dictionary with the words as the key and the value as the amount of times that word appears in the string.<br>Should output:<br>{'a': 5,<br>\n",
    " 'abstract': 1,<br>\n",
    " 'an': 3,<br>\n",
    " 'array': 2, ... etc...</p>"
   ]
  },
  {
   "cell_type": "code",
   "execution_count": null,
   "metadata": {},
   "outputs": [],
   "source": [
    "a_text = 'In computing, a hash table hash map is a data structure which implements an associative array abstract data type, a structure that can map keys to values. A hash table uses a hash function to compute an index into an array of buckets or slots from which the desired value can be found'\n",
    "\n"
   ]
  },
  {
   "cell_type": "markdown",
   "metadata": {},
   "source": [
    "## Exercise #3\n",
    "\n",
    "Write a program to implement a Linear Search Algorithm. Also in a comment, write the Time Complexity of the following algorithm.\n",
    "\n",
    "#### Hint: Linear Searching will require searching a list for a given number. "
   ]
  },
  {
   "cell_type": "code",
   "execution_count": null,
   "metadata": {},
   "outputs": [],
   "source": []
  }
 ],
 "metadata": {
  "kernelspec": {
   "display_name": "Python 3",
   "language": "python",
   "name": "python3"
  },
  "language_info": {
   "codemirror_mode": {
    "name": "ipython",
    "version": 3
   },
   "file_extension": ".py",
   "mimetype": "text/x-python",
   "name": "python",
   "nbconvert_exporter": "python",
   "pygments_lexer": "ipython3",
   "version": "3.8.5"
  }
 },
 "nbformat": 4,
 "nbformat_minor": 2
}
